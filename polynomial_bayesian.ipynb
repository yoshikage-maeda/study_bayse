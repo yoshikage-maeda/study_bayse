{
 "cells": [
  {
   "cell_type": "markdown",
   "metadata": {},
   "source": [
    "# 多項式回帰をベイズでやってみる"
   ]
  },
  {
   "cell_type": "markdown",
   "metadata": {},
   "source": []
  },
  {
   "cell_type": "code",
   "execution_count": 2,
   "metadata": {},
   "outputs": [],
   "source": [
    "# ライブラリ\n",
    "import numpy as np\n",
    "import matplotlib.pyplot as plt"
   ]
  },
  {
   "cell_type": "code",
   "execution_count": 3,
   "metadata": {},
   "outputs": [],
   "source": [
    "# 超パラメータ\n",
    "lambda_ = 10 # 誤差の分散パラメータ 分散の逆数。λが大⇒観測の誤差が小さい\n",
    "dim = 4 # 多項式の次元4なら3次関数で推定するということ"
   ]
  },
  {
   "cell_type": "markdown",
   "metadata": {},
   "source": [
    "## ベイズ回帰の枠組み\n",
    "+ モデルは、$y = w^t x + \\epsilon$で確率モデルで書くと、$N(w^tx,\\epsilon)$ (xは何か非線形変換されていることを想定。今回は多項式変換)\n",
    "+ 事前分布$p(w)$は正規分布で与える。事前知識があればそれに従えばいいが、普通は平均:$m$=0ベクトルで共分散行列:$\\Lambda$は単位行列を与える。\n",
    "+ 事後分布p(w|x)は正規分布になり（共分散既知、平均未知のため）平均、共分散は以下で与えられる。\n",
    "+ $\\Lambda' =  \\lambda\\sum_n (x_n x_n^t) + \\Lambda$\n",
    "+ $m ' =  \\Lambda'^-1 (\\lambda \\sum_n (y_n x_n) + \\Lambda m)$\n",
    "+ 予測分布p(y_*|x_*)は同様に正規分布となり、平均・共分散は以下で与えられる。\n",
    "+ $m\" = m'^t x_*$ \n",
    "+ $\\lambda\"^{-1} = \\lambda^{-1}  + x_*^t\\Lambda'x_*$"
   ]
  },
  {
   "cell_type": "code",
   "execution_count": 18,
   "metadata": {},
   "outputs": [],
   "source": [
    "# データ生成\n",
    "def bayesian_polynomial_regression(size, dim):\n",
    "    # 事前分布\n",
    "    m = np.zeros(dim)\n",
    "    Lambda =np.eye(dim)\n",
    "    w = np.random.multivariate_normal(m,Lambda, 1) # 事前分布は平均0ベクトル、共分散分散行列が単位行列の正規分布で与える。\n",
    "    # 学習用のinput\n",
    "    epsilon = np.random.normal(0, np.sqrt((1/lambda_)), size)\n",
    "    x = np.random.uniform(0, 2*np.pi, size)\n",
    "    print(x)\n",
    "    x_stack = np.stack([np.ones(len(x))] + [np.power(x, i) for i in range(1, dim)])\n",
    "    print(x_stack)\n",
    "    y = np.sin(x) + epsilon\n",
    "    print(y)\n",
    "    # 事後分布のパラメータ（平均、共分散行列）\n",
    "    Lambda_prime = np.zeros((dim, dim))\n",
    "    mean_prime = np.zeros((dim, 1))\n",
    "    for _x, _y in zip(x_stack, y):\n",
    "        _x = _x.reshape((dim,1))\n",
    "        Lambda_prime += np.dot(_x, _x.T)\n",
    "        mean_prime += _y*_x\n",
    "    Lambda_prime = Lambda_prime*lambda_ +Lambda\n",
    "    Lambda_prime_inv = np.linalg.inv(Lambda_prime) # 逆行列\n",
    "    mean_prime =(mean_prime*lambda_).flatten() + np.dot(Lambda, m)\n",
    "    mean_prime = np.dot(Lambda_prime_inv, Lambda_prime)\n",
    "    # 予測分布\n",
    "    x_new = np.arange(0, 6.28, 0.01) #可視化用\n",
    "    x_new_stack = np.vstack(np.array([np.ones(len(x_new))] + [np.power(x_new, i) for i in range(1, dim)]))\n",
    "    m_star = np.dot(x_new_stack, mean_prime)\n",
    "    lambda_star_inv = 1/lambda_ + np.array([_x.dot(Lambda_prime_inv).dot(_x) for _x in x_new_stack])\n",
    "    return m_star, lambda_star_inv"
   ]
  },
  {
   "cell_type": "code",
   "execution_count": 19,
   "metadata": {},
   "outputs": [
    {
     "name": "stdout",
     "output_type": "stream",
     "text": [
      "[2.18589267 4.843565   2.48188609 5.17809566 1.90344764 0.80438425\n",
      " 3.74982175 1.52089543 5.12428536 1.61951735 6.21973775 5.82207062\n",
      " 2.9455916  5.98943799 1.21502242 0.51801362 3.51161939 2.06131276\n",
      " 0.67275421 5.65017298]\n",
      "[[1. 1. 1. 1. 1. 1. 1. 1. 1. 1. 1. 1. 1. 1. 1. 1. 1. 1. 1. 1.]]\n"
     ]
    },
    {
     "ename": "ValueError",
     "evalue": "cannot reshape array of size 20 into shape (1,1)",
     "output_type": "error",
     "traceback": [
      "\u001b[0;31m---------------------------------------------------------------------------\u001b[0m",
      "\u001b[0;31mValueError\u001b[0m                                Traceback (most recent call last)",
      "\u001b[1;32m/home/yoshi/workspace/study_bayes/polynomial_bayesian.ipynb Cell 7\u001b[0m line \u001b[0;36m6\n\u001b[1;32m      <a href='vscode-notebook-cell://wsl%2Bubuntu/home/yoshi/workspace/study_bayes/polynomial_bayesian.ipynb#W6sdnNjb2RlLXJlbW90ZQ%3D%3D?line=3'>4</a>\u001b[0m x \u001b[39m=\u001b[39m np\u001b[39m.\u001b[39marange(\u001b[39m0\u001b[39m, \u001b[39m6.28\u001b[39m, \u001b[39m0.01\u001b[39m)\n\u001b[1;32m      <a href='vscode-notebook-cell://wsl%2Bubuntu/home/yoshi/workspace/study_bayes/polynomial_bayesian.ipynb#W6sdnNjb2RlLXJlbW90ZQ%3D%3D?line=4'>5</a>\u001b[0m \u001b[39mfor\u001b[39;00m i, ax \u001b[39min\u001b[39;00m \u001b[39mzip\u001b[39m(\u001b[39mrange\u001b[39m(\u001b[39m1\u001b[39m, \u001b[39m7\u001b[39m), ax_list):\n\u001b[0;32m----> <a href='vscode-notebook-cell://wsl%2Bubuntu/home/yoshi/workspace/study_bayes/polynomial_bayesian.ipynb#W6sdnNjb2RlLXJlbW90ZQ%3D%3D?line=5'>6</a>\u001b[0m     m_star, lambda_star_inv \u001b[39m=\u001b[39m bayesian_polynomial_regression(\u001b[39m20\u001b[39;49m, i)\n\u001b[1;32m      <a href='vscode-notebook-cell://wsl%2Bubuntu/home/yoshi/workspace/study_bayes/polynomial_bayesian.ipynb#W6sdnNjb2RlLXJlbW90ZQ%3D%3D?line=6'>7</a>\u001b[0m     ax\u001b[39m.\u001b[39mplot(x, m_star) \u001b[39m# 予測の期待値\u001b[39;00m\n\u001b[1;32m      <a href='vscode-notebook-cell://wsl%2Bubuntu/home/yoshi/workspace/study_bayes/polynomial_bayesian.ipynb#W6sdnNjb2RlLXJlbW90ZQ%3D%3D?line=7'>8</a>\u001b[0m     ax\u001b[39m.\u001b[39mplot(x, m_star \u001b[39m+\u001b[39m np\u001b[39m.\u001b[39msqrt(lambda_star_inv), linestyle\u001b[39m=\u001b[39m\u001b[39m'\u001b[39m\u001b[39m--\u001b[39m\u001b[39m'\u001b[39m) \u001b[39m# 予測の期待値 + 標準偏差\u001b[39;00m\n",
      "\u001b[1;32m/home/yoshi/workspace/study_bayes/polynomial_bayesian.ipynb Cell 7\u001b[0m line \u001b[0;36m1\n\u001b[1;32m     <a href='vscode-notebook-cell://wsl%2Bubuntu/home/yoshi/workspace/study_bayes/polynomial_bayesian.ipynb#W6sdnNjb2RlLXJlbW90ZQ%3D%3D?line=15'>16</a>\u001b[0m mean_prime \u001b[39m=\u001b[39m np\u001b[39m.\u001b[39mzeros((dim, \u001b[39m1\u001b[39m))\n\u001b[1;32m     <a href='vscode-notebook-cell://wsl%2Bubuntu/home/yoshi/workspace/study_bayes/polynomial_bayesian.ipynb#W6sdnNjb2RlLXJlbW90ZQ%3D%3D?line=16'>17</a>\u001b[0m \u001b[39mfor\u001b[39;00m _x, _y \u001b[39min\u001b[39;00m \u001b[39mzip\u001b[39m(x_stack, y):\n\u001b[0;32m---> <a href='vscode-notebook-cell://wsl%2Bubuntu/home/yoshi/workspace/study_bayes/polynomial_bayesian.ipynb#W6sdnNjb2RlLXJlbW90ZQ%3D%3D?line=17'>18</a>\u001b[0m     _x \u001b[39m=\u001b[39m _x\u001b[39m.\u001b[39;49mreshape((dim,\u001b[39m1\u001b[39;49m))\n\u001b[1;32m     <a href='vscode-notebook-cell://wsl%2Bubuntu/home/yoshi/workspace/study_bayes/polynomial_bayesian.ipynb#W6sdnNjb2RlLXJlbW90ZQ%3D%3D?line=18'>19</a>\u001b[0m     Lambda_prime \u001b[39m+\u001b[39m\u001b[39m=\u001b[39m np\u001b[39m.\u001b[39mdot(_x, _x\u001b[39m.\u001b[39mT)\n\u001b[1;32m     <a href='vscode-notebook-cell://wsl%2Bubuntu/home/yoshi/workspace/study_bayes/polynomial_bayesian.ipynb#W6sdnNjb2RlLXJlbW90ZQ%3D%3D?line=19'>20</a>\u001b[0m     mean_prime \u001b[39m+\u001b[39m\u001b[39m=\u001b[39m _y\u001b[39m*\u001b[39m_x\n",
      "\u001b[0;31mValueError\u001b[0m: cannot reshape array of size 20 into shape (1,1)"
     ]
    },
    {
     "data": {
      "image/png": "[encoded data removed]",
      "text/plain": [
       "<Figure size 1000x600 with 6 Axes>"
      ]
     },
     "metadata": {},
     "output_type": "display_data"
    }
   ],
   "source": [
    "# 色々な次元でやってみる\n",
    "fig = plt.figure(figsize = (10,6), facecolor='lightblue')\n",
    "ax_list = [fig.add_subplot(2, 3, i+1) for i in range(6)]\n",
    "x = np.arange(0, 6.28, 0.01)\n",
    "for i, ax in zip(range(1, 7), ax_list):\n",
    "    m_star, lambda_star_inv = bayesian_polynomial_regression(20, i)\n",
    "    ax.plot(x, m_star) # 予測の期待値\n",
    "    ax.plot(x, m_star + np.sqrt(lambda_star_inv), linestyle='--') # 予測の期待値 + 標準偏差\n",
    "    ax.plot(x, m_star - np.sqrt(lambda_star_inv), linestyle='--') # 予測の期待値 - 標準偏差\n",
    "    ax.set_xlim(0, 2*np.pi)\n",
    "    ax.set_ylim(-2, 2)\n",
    "    ax.set_title(f'dim={i}')\n",
    "    "
   ]
  },
  {
   "cell_type": "code",
   "execution_count": 17,
   "metadata": {},
   "outputs": [
    {
     "data": {
      "text/plain": [
       "array([[ 1.,  1.,  1.],\n",
       "       [ 1.,  2.,  3.],\n",
       "       [ 1.,  4.,  9.],\n",
       "       [ 1.,  8., 27.]])"
      ]
     },
     "execution_count": 17,
     "metadata": {},
     "output_type": "execute_result"
    }
   ],
   "source": [
    "x = [1,2, 3]\n",
    "x_stack = np.stack([np.ones(3)] + [np.power(x, i) for i in range(1, dim)])\n",
    "x_stack"
   ]
  },
  {
   "cell_type": "code",
   "execution_count": null,
   "metadata": {},
   "outputs": [],
   "source": []
  }
 ],
 "metadata": {
  "kernelspec": {
   "display_name": "Python 3",
   "language": "python",
   "name": "python3"
  },
  "language_info": {
   "codemirror_mode": {
    "name": "ipython",
    "version": 3
   },
   "file_extension": ".py",
   "mimetype": "text/x-python",
   "name": "python",
   "nbconvert_exporter": "python",
   "pygments_lexer": "ipython3",
   "version": "3.10.0"
  }
 },
 "nbformat": 4,
 "nbformat_minor": 2
}
