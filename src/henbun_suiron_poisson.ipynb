{
 "cells": [
  {
   "cell_type": "code",
   "execution_count": null,
   "metadata": {},
   "outputs": [],
   "source": []
  },
  {
   "cell_type": "markdown",
   "metadata": {},
   "source": [
    "# ポアソン混合分布推定(変分推論)\n",
    "\n",
    "このシートでは、潜在変数とパラメータを分けることによって、事後分布を近似することを目指す。\n",
    "\n",
    "$$\n",
    "p(S, \\lambda, \\pi | X) \\approx q(S)q(\\lambda, \\pi)\n",
    "$$"
   ]
  },
  {
   "cell_type": "markdown",
   "metadata": {},
   "source": [
    "変分推論では、何らかのいい性質を持っている分布の中で、分布pと最も”近い”分布qを探すことを探すことが目的。\n",
    "特に以下の仮定を置いたものを平均場近似という。\n",
    "$$\n",
    "p(z_1, z_2, z_3) \\ approx q(z_1)q(z_2)q(z_3)\n",
    "$$\n",
    "この下で、各分解された近似分布$q(z_1), q(z_2), q(z_3)$をKLダイバージェンスが最も小さくなるように１つ１つ修正していくのが、平均場近似による変分推論の基本的なアルゴリズム。\n",
    "例えば、q(z_2)とq(z_3)わかっているとすると、(期待値計算は、<>とかく)\n",
    ")\n",
    "\n",
    "$q_{opt.}(z_1) = \\text{argmin KL}_{q(z_1)} [q(z_1)q(z_2)q(z_3) || p(z_1, z_2, z_3)]$\n",
    "$$\n",
    "\\text{KL} [q(z_1)q(z_2)q(z_3) || p(z_1, z_2, z_3)] \\\\\n",
    "\n",
    "= - <\\ln \\frac{p(z_1, z_2, z_3)}{q(z_1)q(z_2)q(z_3)}>_{1,2,3}\n",
    "\n",
    "$$"
   ]
  },
  {
   "cell_type": "code",
   "execution_count": 4,
   "metadata": {},
   "outputs": [],
   "source": [
    "import numpy as np\n",
    "from scipy.special import psi\n",
    "import matplotlib.pyplot as plt"
   ]
  },
  {
   "cell_type": "code",
   "execution_count": 21,
   "metadata": {},
   "outputs": [],
   "source": [
    "# 混合ポアソン分布の生成\n",
    "K = 3\n",
    "N =300\n",
    "lambda_true = np.array([1, 10, 20])\n",
    "pi_true = np.array([0.2, 0.5, 0.3])\n",
    "\n",
    "s_truth_nk = np.random.multinomial(n=1, pvals=pi_true, size=N)\n",
    "_, s_truth_n = np.where(s_truth_nk == 1)\n",
    "X = np.random.poisson(lam=lambda_true[s_truth_n], size=N)\n"
   ]
  },
  {
   "cell_type": "code",
   "execution_count": 22,
   "metadata": {},
   "outputs": [],
   "source": [
    "# 事前分布の設定\n",
    "a = 1.0\n",
    "b = 1.0\n",
    "alpha = np.repeat(2.0, K)\n",
    "\n",
    "# 初期値\n",
    "E_s_nk =np.random.rand(N, K)\n",
    "E_s_nk =  E_s_nk / np.sum(E_s_nk, axis = 1, keepdims=True)"
   ]
  },
  {
   "cell_type": "markdown",
   "metadata": {},
   "source": []
  },
  {
   "cell_type": "code",
   "execution_count": 23,
   "metadata": {},
   "outputs": [],
   "source": [
    "a_hat_k = np.sum(E_s_nk.T * X, axis=1) + a\n",
    "b_hat_k = np.sum(E_s_nk, axis=0) + b\n",
    "alpha_hat_k = np.sum(E_s_nk, axis=0) + alpha\n",
    "E_lambda = a_hat_k/b_hat_k\n",
    "E_pi = alpha_hat_k / np.sum(alpha_hat_k)\n"
   ]
  },
  {
   "cell_type": "code",
   "execution_count": 24,
   "metadata": {},
   "outputs": [],
   "source": [
    "# 変分推論\n",
    "Max_Iter = 300\n",
    "\n",
    "for _ in range(Max_Iter):\n",
    "    E_lambda = a_hat_k/b_hat_k\n",
    "    E_ln_lambda = psi(a_hat_k) - np.log(b_hat_k)\n",
    "    E_ln_pi = psi(alpha_hat_k) - psi(np.sum(alpha_hat_k))\n",
    "    \n",
    "    for n in range(N):\n",
    "        eta= np.exp(X[n] * E_ln_lambda - E_lambda + E_ln_pi)\n",
    "        eta = eta / np.sum(eta)\n",
    "        \n",
    "        E_s_nk[n] = eta.copy()\n",
    "    \n",
    "    a_hat_k = np.sum(E_s_nk.T * X, axis=1) + a\n",
    "    b_hat_k = np.sum(E_s_nk, axis=0) + b\n",
    "    \n",
    "    alpha_hat_k = np.sum(E_s_nk, axis=0) + alpha"
   ]
  },
  {
   "cell_type": "code",
   "execution_count": 28,
   "metadata": {},
   "outputs": [
    {
     "data": {
      "text/plain": [
       "array([144.58999335,  63.77507572,  97.63493093])"
      ]
     },
     "execution_count": 28,
     "metadata": {},
     "output_type": "execute_result"
    }
   ],
   "source": [
    "E_ln_lambda\n",
    "a_hat_k\n",
    "b_hat_k\n",
    "alpha_hat_k"
   ]
  },
  {
   "cell_type": "code",
   "execution_count": null,
   "metadata": {},
   "outputs": [],
   "source": []
  }
 ],
 "metadata": {
  "kernelspec": {
   "display_name": "Python 3",
   "language": "python",
   "name": "python3"
  },
  "language_info": {
   "codemirror_mode": {
    "name": "ipython",
    "version": 3
   },
   "file_extension": ".py",
   "mimetype": "text/x-python",
   "name": "python",
   "nbconvert_exporter": "python",
   "pygments_lexer": "ipython3",
   "version": "3.10.0"
  }
 },
 "nbformat": 4,
 "nbformat_minor": 2
}
