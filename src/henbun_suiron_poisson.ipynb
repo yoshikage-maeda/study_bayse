{
 "cells": [
  {
   "cell_type": "code",
   "execution_count": null,
   "metadata": {},
   "outputs": [],
   "source": []
  },
  {
   "cell_type": "markdown",
   "metadata": {},
   "source": [
    "# ポアソン混合分布推定(変分推論)\n",
    "\n",
    "このシートでは、潜在変数とパラメータを分けることによって、事後分布を近似することを目指す。\n",
    "\n",
    "$$\n",
    "p(S, \\lambda, \\pi | X) \\approx q(S)q(\\lambda, \\pi)\n",
    "$$"
   ]
  },
  {
   "cell_type": "markdown",
   "metadata": {},
   "source": [
    "変分推論では、何らかのいい性質を持っている分布の中で、分布pと最も”近い”分布qを探すことを探すことが目的。\n",
    "特に以下の仮定を置いたものを平均場近似という。\n",
    "$$\n",
    "p(z_1, z_2, z_3) \\ approx q(z_1)q(z_2)q(z_3)\n",
    "$$\n",
    "この下で、各分解された近似分布$q(z_1), q(z_2), q(z_3)$をKLダイバージェンスが最も小さくなるように１つ１つ修正していくのが、平均場近似による変分推論の基本的なアルゴリズム。\n",
    "例えば、q(z_2)とq(z_3)わかっているとすると、(期待値計算は、<>とかく)\n",
    ")\n",
    "\n",
    "$q_{opt.}(z_1) = \\text{argmin KL}_{q(z_1)} [q(z_1)q(z_2)q(z_3) || p(z_1, z_2, z_3)]$\n",
    "$$\n",
    "\\text{KL} [q(z_1)q(z_2)q(z_3) || p(z_1, z_2, z_3)] \\\\\n",
    "\n",
    "= - <\\ln \\frac{p(z_1, z_2, z_3)}{q(z_1)q(z_2)q(z_3)}>_{1,2,3}\n",
    "\n",
    "$$"
   ]
  },
  {
   "cell_type": "markdown",
   "metadata": {},
   "source": []
  }
 ],
 "metadata": {
  "kernelspec": {
   "display_name": "Python 3",
   "language": "python",
   "name": "python3"
  },
  "language_info": {
   "name": "python",
   "version": "3.10.0"
  }
 },
 "nbformat": 4,
 "nbformat_minor": 2
}
