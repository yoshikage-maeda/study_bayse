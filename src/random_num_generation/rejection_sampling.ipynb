{
 "cells": [
  {
   "cell_type": "markdown",
   "metadata": {},
   "source": [
    "# 棄却法\n",
    "逆関数では、もとになる分布を変換して、作りたい分布Pを生み出した。\n",
    "棄却法では、もとになる乱数を潜在的には無限個用意し、そこからPを抽出する。\n",
    "確率分布Pが定義されている空間を状態空間とよび、状態空間E上に定義された生成したい分布Pと\n",
    "同じ状態空間に定義されている確率分布Qはそれぞれ確率密度関数p(x),q(x)をもち、\n",
    "$$\n",
    "r(x) = \\frac{p(x)}{q(x)} \\leq R,  \\ x \\in E\n",
    "$$\n",
    "となるRが存在するとする。\n",
    "\n",
    "> 定理. $m = 1,2, \\cdots$について、$Y_m$はQからの、$U_m$は一様分布からの乱数で、すべて独立とする。初めて$U_m \\leq R^{-1}r(Y_m)$となった自然数mを$\\tau$とかく。\n",
    "> すると, $X = Y_\\tau$ とおくいと、XはPに従う。さらに、$E[\\tau] = R$\n",
    "\n",
    "証明\n",
    "まず、$Y$は$Q$に従う乱数、$U$は一様乱数とする。このとき$\\tau$は、当選確率\n",
    "$$\n",
    "\\theta = P(U \\leq R^{-1} r(Y))\n",
    "$$\n",
    "のくじの当たるまでの回数である。したがって、$\\tau$はパラメータ$\\theta$の幾何分布に従い、平均は$\\theta^{-1}$である。\n",
    "次に、$\\theta$をもとめる。Uは一様乱数だから、任意の$y$に対して、\n",
    "$$\n",
    "P(U \\leq R^{-1} r(y)) = R^{-1}r(y)\n",
    "$$\n",
    "になる。ここで、yは定数としたが、Θの計算のさいには、Qに従う乱数である。\n",
    "したがって、ΘはQでの期待値になり\n",
    "$$\n",
    "\\theta = R^{-1}\\int_{-infty}^{\\infty} r(y)q(y)dy =  R^{-1}\\int_{-infty}^{\\infty} p(y)dy = R^{-1}\n",
    "$$\n",
    "したがって、$E[\\tau]= \\theta^{-1} = R$がわかる。\n",
    "一方、Xの従う確率分布は、$U \\leq R^{-1}r(Y)$の条件でのYの従う確率分布だから、累積分布関数は\n",
    "$$\n",
    "P(X \\leq x) = P(Y\\leq x | U \\leq R^{-1}r(Y)) = \\frac{P(Y\\leq x,U \\leq R^{-1}r(Y))}{P(U \\leq R^{-1}r(Y))}\n",
    "$$\n",
    "分母は、$R^{-1}$になるので、分子を計算する。任意のyについて、\n",
    "$$\n",
    "P(y\\leq x, U \\leq R^{-1}r(y)) = R^{-1}r(y) \\  (y \\leq x), 0 \\ (y > x)\n",
    "$$\n",
    "したがって、Pの累積分布関数をFとかくと\n",
    "$$\n",
    "P(X \\leq x) = RR^{-1}\\int_{-^\\infty}^{x} r(y)q(y) dy = \\int_{-^\\infty}^{x} p(y) dy = F(x)\n",
    "$$\n",
    "となり、$P(X \\leq x) = F(x)$ となり、XがPに従うことがわかる。\n",
    "\n",
    "Remark.\n",
    "Pに従う乱数を１回生成するのに必要なＱの乱数の個数の期待値はＲであるから、計算効率的にはRは小さければ小さいほどいい。"
   ]
  },
  {
   "cell_type": "markdown",
   "metadata": {},
   "source": [
    "## ベータ分布の場合\n",
    "$$\n",
    "p(x| \\alpha, \\beta) = \\frac{x^{\\alpha-1}(1-x)^{\\beta-1}}{B(\\alpha, \\beta)}\n",
    "$$\n",
    "分子の対数をとって、xで微分をすると\n",
    "$$\n",
    "\\frac{\\alpha -1 }{x} - \\frac{\\beta - 1}{1 - x}  = 0\n",
    "$$\n",
    "の解 $x*$は、\n",
    "$$\n",
    "x* = \\frac{\\alpha - 1}{\\alpha + \\beta -2}\n",
    "$$\n",
    "であり、x*で最大値をとる。だから、\n",
    "$$\n",
    "p(x|\\alpha, \\beta) \\leq p(x*| \\alpha, \\beta) = (\\frac{\\alpha-1}{\\alpha + \\beta-2})^{\\alpha-1}(\\frac{\\beta-1}{\\alpha + \\beta-2})^{\\beta-1} \\frac{1}{B(\\alpha, \\beta)} =: R\n",
    "$$\n",
    "となる。ここで、Y, Uを一様乱数とすると、Q= U(0,1)すなわち、q(y) = 1で\n",
    "$r(y) = p(y|\\alpha, \\beta)$となる。すると、\n",
    "$$\n",
    "U \\leq R^{-1}p(Y|\\alpha, \\beta)\n",
    "$$\n",
    "のときに、X=Yとして、修了するアルゴリズムを考えれば、得られた乱数はベータ分布に従う。しかし、α,β < 1のときには使えないことには注意"
   ]
  },
  {
   "cell_type": "code",
   "execution_count": 15,
   "metadata": {},
   "outputs": [
    {
     "name": "stdout",
     "output_type": "stream",
     "text": [
      "1.5461807307835764\n",
      "真 平均:0.47619047619047616,分散:0.04796790511076225\n",
      "サンプリング 平均:0.48280219135618424, 分散:0.055605522614155044\n",
      "サンプリング回数 12634, 期待値:15461.807307835765\n"
     ]
    },
    {
     "data": {
      "image/png": "[encoded data removed]",
      "text/plain": [
       "<Figure size 640x480 with 1 Axes>"
      ]
     },
     "metadata": {},
     "output_type": "display_data"
    }
   ],
   "source": [
    "# β分布生成アルゴリズム\n",
    "import numpy as np\n",
    "from scipy.special import beta\n",
    "import matplotlib.pyplot as plt\n",
    "alpha = 2\n",
    "beta_ = 2.2\n",
    "R = (((alpha- 1)/(alpha + beta_ -2))**(alpha-1)) * (((beta_- 1)/(alpha + beta_ -2))**(beta_-1)) / beta(alpha, beta_)\n",
    "\n",
    "def calc_yuudo(x, alpha, beta_):\n",
    "    return (x**(alpha-1))*((1-x)**(beta_-1))/beta(alpha, beta_)\n",
    "\n",
    "X = [] # ここに格納する。\n",
    "size = 10000 # このサイズを作る\n",
    "count = 0 # 何回ループしたか計算\n",
    "while(len(X) < size):\n",
    "    count += 1\n",
    "    u = np.random.uniform()\n",
    "    y = np.random.uniform()\n",
    "    if u <= calc_yuudo(y, alpha, beta_):\n",
    "        X.append(y)\n",
    "\n",
    "plt.figure()\n",
    "plt.hist(X)\n",
    "\n",
    "print(R)\n",
    "print(f'真 平均:{alpha/(alpha+beta_)},分散:{(alpha*beta_)/( ( (alpha+beta_)**2) *(alpha+beta_+1)) }')\n",
    "print(f'サンプリング 平均:{np.mean(X)}, 分散:{np.var(X)}')\n",
    "print(f'サンプリング回数 {count}, 期待値:{R*size}') \n"
   ]
  },
  {
   "cell_type": "markdown",
   "metadata": {},
   "source": [
    "## 事後分布の生成\n",
    "+ 周辺密度関数 $p(x) = \\int_\\Theta p(x|\\theta)p(\\theta) d\\theta$が与えられているとする\n",
    "+ $\\hat{\\theta}$を$\\theta$の最尤推定量とする。\n",
    "\n",
    "このとき、事前分布を提案分布として、事後分布に従う乱数を生成したい\n",
    "\n",
    "密度関数の割合は\n",
    "$$\n",
    "r(\\theta) = \\frac{p(\\theta|x)}{p(\\theta)} = \\frac{p(x|\\theta)p(\\theta)}{p(x)p(\\theta)} = \\frac{p(x|\\theta)}{p(x)}\n",
    "$$\n",
    "右辺は、分子しか$\\theta$によらないので、Rは\n",
    "$$\n",
    "R = \\frac{p(x|\\hat{\\theta})}{p(x)}\n",
    "$$\n",
    "ととればよい。"
   ]
  },
  {
   "cell_type": "markdown",
   "metadata": {},
   "source": [
    "### 正規分布の平均パラメータΘに関する事後分布に従う乱数の生成\n",
    "\n",
    "+ 観測データは $N(\\theta, 1)$、事前分布はコーシー分布C(0,1)が定められている。\n",
    "+ 提案分布を事前分布のコーシー分布として、棄却法により生成する\n",
    "\n",
    "$p(x|\\theta) = \\frac{1}{\\sqrt{2\\pi}} \\exp(-\\frac{(x-\\theta)^2}{2})$ より、$\\hat{\\theta}=x$のとき最大となる。\n",
    "\n",
    "よって、$R =\\frac{p(x|\\hat{\\theta})}{p(x)} = \\frac{1}{\\sqrt{2\\pi}p(x)}$\n",
    "\n",
    "$$\n",
    "R^{-1}r(\\theta) = \\sqrt{2\\pi}p(x) \\frac{p(x|\\theta)}{p(x)}= \\exp(-\\frac{(x-\\theta)^2}{2})\n",
    "$$\n",
    "ゆえに次のアルゴリズムで、生成できる。\n",
    "\n",
    "+ $\\theta \\sim C(0,1), U \\sim U(0,1)$\n",
    "+ $U \\leq \\exp(-\\frac{(x-\\theta)^2}{2})$ のとき$\\theta$を採択する。"
   ]
  },
  {
   "cell_type": "code",
   "execution_count": 22,
   "metadata": {},
   "outputs": [
    {
     "name": "stdout",
     "output_type": "stream",
     "text": [
      "[3.133601757182845, 0.587909435252859, 5.469438042138546, 1.6622989430842205, -0.12979369768318058, -4.504687451985565, -1.2697406237640354, -1.624201384883218, 4.735331050781376, 1.2869511352849252, 1.7208661576885969, 2.1905097705864813, 12.76199336203885, 3.6589006134865607, 0.7824986195975969, 0.32460907628604596, -1.3591224996719753, 72.0093236982516, 24.97001427838462, 4.2844219263209355, -2.8071865607164335, -1.2279166491457065, -0.850660765765206, -32.20462552407851, 0.4107846894032535, -0.7506691254997085, 0.13007550905932963, 1.8149282541516893, -0.00012025638632850979, 0.7295036421435304, 0.25002427661665555, -8.22662909469553, -11.885301505906419, -0.11227305932384622, -0.2918039858474853, 0.9350327242225179, 3.0706561696801065, -0.05009386814064785, 1.4790681614872703, 0.3668698212746702, 0.307364791284399, 0.52142937916729, 0.8804686717580068, 0.16115718126692535, -0.44337516047221087, -0.45408869155526393, 0.848802391126888, 0.10030391429191944, -0.7070330466823074, 14.89260909642961, 1.9842264730312673, 1.078611111477628, 2.872600489956782, 3.007192812980231, 1.6400189427042695, -0.07807717590413318, 3.720871376992246, 10.617549640538327, 0.8334838022333645, -4.090167741740768, -2.4075442012630672, 24.7965723814023, 0.40405023943191853, -0.7889217862052486, -1.5161072396814894, -0.2840201874303031, -0.08081206082834548, -0.9473970202600324, 0.8249392428235665, -1.0959601720389094, 1.8813257583861962, -0.21118273780080055, 0.12146713634043023, 0.2356941653762925, -2.0288056840562274, 0.5399730513168984, -1.2190181813798067, 0.4908322135695017, 0.6513815670814513, 0.2655013395119767, -1.1499051172251769, -21.478790576869873, 0.8451971026094133, 0.15513761163550147, 0.911651939013495, -0.26054247704666184, 0.9064351866540232, -4.295881021167837, -6.089556918823903, 2.3637507795825283, -17.472249265934696, 0.6277168503602009, 1.4125903599529872, -0.14778541654491303, -0.0810853850793235, 0.43921558416250334, 3.559865696441375, -0.29901976776346884, 0.7464851326848606, -1.7464899455879648]\n"
     ]
    },
    {
     "data": {
      "image/png": "[encoded data removed]",
      "text/plain": [
       "<Figure size 640x480 with 1 Axes>"
      ]
     },
     "metadata": {},
     "output_type": "display_data"
    }
   ],
   "source": [
    "\n",
    "X = [] # ここに格納していく。\n",
    "size = 100 # size個つくる\n",
    "count = 0\n",
    "\n",
    "while(len(X) < size):\n",
    "    count += 1\n",
    "    theta = np.random.standard_cauchy() # 平均パラメータが事前分布によって生成される。\n",
    "    x = np.random.normal(theta, 1) # 観測データ\n",
    "    u = np.random.uniform()\n",
    "    if u <= np.exp(-(x-theta)**2/2):\n",
    "        X.append(theta)\n",
    "print(X)\n",
    "plt.figure()\n",
    "plt.hist(X, bins=int(np.sqrt(len(X))))\n",
    "plt.show()"
   ]
  },
  {
   "cell_type": "code",
   "execution_count": null,
   "metadata": {},
   "outputs": [],
   "source": []
  }
 ],
 "metadata": {
  "kernelspec": {
   "display_name": "Python 3",
   "language": "python",
   "name": "python3"
  },
  "language_info": {
   "codemirror_mode": {
    "name": "ipython",
    "version": 3
   },
   "file_extension": ".py",
   "mimetype": "text/x-python",
   "name": "python",
   "nbconvert_exporter": "python",
   "pygments_lexer": "ipython3",
   "version": "3.10.0"
  }
 },
 "nbformat": 4,
 "nbformat_minor": 2
}
