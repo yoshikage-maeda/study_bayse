{
 "cells": [
  {
   "cell_type": "code",
   "execution_count": 20,
   "metadata": {},
   "outputs": [],
   "source": [
    "# 線形圧縮ベイズ\n",
    "import numpy as np\n",
    "import cv2\n",
    "import sys\n",
    "from tqdm import tqdm"
   ]
  },
  {
   "cell_type": "code",
   "execution_count": 21,
   "metadata": {},
   "outputs": [],
   "source": [
    "Y = cv2.imread('./../img/onepiece01_luffy.png',0)\n",
    "Y = cv2.resize(Y, (512, 512))\n",
    "D = Y.shape[0]\n",
    "N = Y.shape[1]"
   ]
  },
  {
   "cell_type": "code",
   "execution_count": 22,
   "metadata": {},
   "outputs": [
    {
     "name": "stderr",
     "output_type": "stream",
     "text": [
      "  0%|          | 0/20 [00:00<?, ?it/s]"
     ]
    },
    {
     "name": "stderr",
     "output_type": "stream",
     "text": [
      "100%|██████████| 20/20 [00:23<00:00,  1.18s/it]\n",
      "100%|██████████| 20/20 [00:23<00:00,  1.19s/it]\n",
      "100%|██████████| 20/20 [00:24<00:00,  1.23s/it]\n",
      "100%|██████████| 20/20 [00:26<00:00,  1.31s/it]\n",
      "100%|██████████| 20/20 [00:30<00:00,  1.53s/it]\n",
      "100%|██████████| 20/20 [00:50<00:00,  2.53s/it]\n",
      "100%|██████████| 20/20 [03:38<00:00, 10.92s/it]\n",
      "100%|██████████| 20/20 [11:59<00:00, 35.96s/it]\n",
      "  5%|▌         | 1/20 [04:48<1:31:23, 288.58s/it]\n"
     ]
    },
    {
     "ename": "KeyboardInterrupt",
     "evalue": "",
     "output_type": "error",
     "traceback": [
      "\u001b[0;31m---------------------------------------------------------------------------\u001b[0m",
      "\u001b[0;31mKeyboardInterrupt\u001b[0m                         Traceback (most recent call last)",
      "\u001b[1;32m/home/yoshi/workspace/study_bayes/src/linear_compression.ipynb Cell 3\u001b[0m line \u001b[0;36m3\n\u001b[1;32m     <a href='vscode-notebook-cell://wsl%2Bubuntu/home/yoshi/workspace/study_bayes/src/linear_compression.ipynb#W3sdnNjb2RlLXJlbW90ZQ%3D%3D?line=31'>32</a>\u001b[0m     \u001b[39mfor\u001b[39;00m n \u001b[39min\u001b[39;00m \u001b[39mrange\u001b[39m(N):\n\u001b[1;32m     <a href='vscode-notebook-cell://wsl%2Bubuntu/home/yoshi/workspace/study_bayes/src/linear_compression.ipynb#W3sdnNjb2RlLXJlbW90ZQ%3D%3D?line=33'>34</a>\u001b[0m         sum2 \u001b[39m=\u001b[39m sum2 \u001b[39m+\u001b[39m (Y[d,n] \u001b[39m-\u001b[39m m_mu[d])\u001b[39m*\u001b[39mmu_x[:,n]\u001b[39m.\u001b[39mreshape((M,\u001b[39m1\u001b[39m))\n\u001b[0;32m---> <a href='vscode-notebook-cell://wsl%2Bubuntu/home/yoshi/workspace/study_bayes/src/linear_compression.ipynb#W3sdnNjb2RlLXJlbW90ZQ%3D%3D?line=34'>35</a>\u001b[0m         sum3 \u001b[39m=\u001b[39m sum3 \u001b[39m+\u001b[39m np\u001b[39m.\u001b[39;49mdot(mu_x[:,n]\u001b[39m.\u001b[39;49mreshape((M,\u001b[39m1\u001b[39;49m)),mu_x[:,n]\u001b[39m.\u001b[39;49mreshape((\u001b[39m1\u001b[39;49m,M))) \u001b[39m+\u001b[39m Sigma_x_hat\n\u001b[1;32m     <a href='vscode-notebook-cell://wsl%2Bubuntu/home/yoshi/workspace/study_bayes/src/linear_compression.ipynb#W3sdnNjb2RlLXJlbW90ZQ%3D%3D?line=36'>37</a>\u001b[0m     m_omega[:,d] \u001b[39m=\u001b[39m sigma_y\u001b[39m*\u001b[39m\u001b[39m*\u001b[39m(\u001b[39m-\u001b[39m\u001b[39m2\u001b[39m) \u001b[39m*\u001b[39m np\u001b[39m.\u001b[39mdot(Sigma_oemga_hat , sum2)\u001b[39m.\u001b[39mreshape((\u001b[39m1\u001b[39m,M))\n\u001b[1;32m     <a href='vscode-notebook-cell://wsl%2Bubuntu/home/yoshi/workspace/study_bayes/src/linear_compression.ipynb#W3sdnNjb2RlLXJlbW90ZQ%3D%3D?line=38'>39</a>\u001b[0m Sigma_oemga_hat \u001b[39m=\u001b[39m np\u001b[39m.\u001b[39mlinalg\u001b[39m.\u001b[39minv(sigma_y\u001b[39m*\u001b[39m\u001b[39m*\u001b[39m(\u001b[39m-\u001b[39m\u001b[39m2\u001b[39m) \u001b[39m*\u001b[39m sum3 \u001b[39m*\u001b[39m np\u001b[39m.\u001b[39mlinalg\u001b[39m.\u001b[39minv(Sigma_omega))\n",
      "\u001b[0;31mKeyboardInterrupt\u001b[0m: "
     ]
    }
   ],
   "source": [
    "for M in [2, 4, 8, 16, 32, 64, 128]:\n",
    "    # ハイパーパラメータ\n",
    "    Sigma_omega = np.identity(M)*0.1\n",
    "    Sigma_mu = np.identity(D)\n",
    "    sigma_y = 31\n",
    "    \n",
    "    # 初期値\n",
    "    m_mu = np.random.rand(D).reshape((D,1))\n",
    "    m_omega = np.zeros((M,D))\n",
    "    mu_x = np.random.rand(M,N)\n",
    "\n",
    "    Sigma_mu_hat = np.random.rand(D,D)\n",
    "    Sigma_oemga_hat = np.random.rand(M,M)\n",
    "    Sigma_x_hat = np.random.rand(M,M)\n",
    "    MAXITER = 20 #How many times will be repeted\n",
    "    for i in tqdm(range(MAXITER)):\n",
    "\n",
    "        #mu is reloated\n",
    "\n",
    "        sum1 = np.zeros((D,1))\n",
    "        for n in range(N):\n",
    "            sum1 = sum1 + Y[:,n].reshape((D,1)) - np.dot(m_omega.T,mu_x[:,n].reshape((M,1)))\n",
    "\n",
    "        m_mu = sigma_y**(-2) * np.dot(Sigma_mu_hat , sum1)\n",
    "        Sigma_mu_hat = np.linalg.inv(N * sigma_y**(-2) * np.identity(D) + np.linalg.inv(Sigma_mu))\n",
    "\n",
    "        #W is reloated\n",
    "\n",
    "        for d in range(D):\n",
    "            sum2 = np.zeros((M,1))\n",
    "            sum3 = np.zeros((M,M))\n",
    "            for n in range(N):\n",
    "\n",
    "                sum2 = sum2 + (Y[d,n] - m_mu[d])*mu_x[:,n].reshape((M,1))\n",
    "                sum3 = sum3 + np.dot(mu_x[:,n].reshape((M,1)),mu_x[:,n].reshape((1,M))) + Sigma_x_hat\n",
    "\n",
    "            m_omega[:,d] = sigma_y**(-2) * np.dot(Sigma_oemga_hat , sum2).reshape((1,M))\n",
    "\n",
    "        Sigma_oemga_hat = np.linalg.inv(sigma_y**(-2) * sum3 * np.linalg.inv(Sigma_omega))\n",
    "\n",
    "        #X is reloated\n",
    "\n",
    "        sum4 = np.zeros((M,M))\n",
    "        for d in range(D):\n",
    "            sum4 = sum4 + np.dot(m_omega[:,d].reshape((M,1)),m_omega[:,d].reshape((1,M))) + Sigma_oemga_hat\n",
    "        Sigma_x_hat = np.linalg.inv(sigma_y**(-2)*sum4 + np.identity(M))\n",
    "\n",
    "        for n in range(N):\n",
    "            mu_x[:,n] = ( sigma_y**(-2)*Sigma_x_hat @ m_omega @ (Y[:,n].reshape((D,1)) - m_mu) ).reshape((1,M))\n",
    "\n",
    "    reductioned_Y = m_omega.T @ mu_x + m_mu\n",
    "    cv2.imwrite(f\"./../img/M_{M}.jpg\",reductioned_Y)\n"
   ]
  },
  {
   "cell_type": "code",
   "execution_count": null,
   "metadata": {},
   "outputs": [],
   "source": []
  }
 ],
 "metadata": {
  "kernelspec": {
   "display_name": "Python 3",
   "language": "python",
   "name": "python3"
  },
  "language_info": {
   "codemirror_mode": {
    "name": "ipython",
    "version": 3
   },
   "file_extension": ".py",
   "mimetype": "text/x-python",
   "name": "python",
   "nbconvert_exporter": "python",
   "pygments_lexer": "ipython3",
   "version": "3.10.0"
  }
 },
 "nbformat": 4,
 "nbformat_minor": 2
}
