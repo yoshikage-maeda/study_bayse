{
 "cells": [
  {
   "cell_type": "markdown",
   "metadata": {},
   "source": [
    "# モンテカルロ積分\n",
    "\n",
    "$\\int f(x) dx = (b-a)E[f(x)]$\n",
    "として、積分を一様分布の期待値ととらえる。"
   ]
  },
  {
   "cell_type": "code",
   "execution_count": 6,
   "metadata": {},
   "outputs": [
    {
     "data": {
      "image/png": "[encoded data removed]",
      "text/plain": [
       "<Figure size 640x480 with 1 Axes>"
      ]
     },
     "metadata": {},
     "output_type": "display_data"
    }
   ],
   "source": [
    "import numpy as np\n",
    "import matplotlib.pyplot as plt\n",
    "# f(x) = (cos(50x) + sin(20x))^2のとき\n",
    "def f(x):\n",
    "    return (np.cos(50*x) + np.sin(20*x))**2\n",
    "\n",
    "Integrate = []\n",
    "mean = 0\n",
    "for _ in range(10**5):\n",
    "    u = np.random.uniform()\n",
    "    mean = (mean*len(Integrate) + f(u))/(len(Integrate) + 1) # 毎回 平均を計算するより、逐次的に計算した方が早い。\n",
    "    Integrate.append(mean)\n",
    "\n",
    "plt.figure()\n",
    "plt.plot(range(10**5), Integrate)\n",
    "plt.plot(range(10**5),[0.96520]*10**5, linestyle = \"dotted\")\n",
    "plt.show()\n",
    "\n",
    "    \n"
   ]
  },
  {
   "cell_type": "markdown",
   "metadata": {},
   "source": [
    "# 周辺確率密度関数\n",
    "\n",
    "次は、先ほどとは違い真値が計算できないものに対して実施する。\n",
    "\n",
    "長さNの観測$x_1, x_2, \\cdots, x_N | \\theta$は独立でコーシー分布$C(\\theta, 1)$に従い、Θには、C(0,1)の事前分布を仮定する。\n",
    "このとき、尤度と周辺確率密度関数は、それぞれ\n",
    "\n",
    "$$\n",
    "p(x^N|\\theta) = \\Pi\\frac{1}{\\pi (1 + (x_n - \\theta)^2)}, p(\\theta) = \\frac{1}{\\pi(1+\\theta)^2}\n",
    "$$\n",
    "である。したがって、周辺確率密度関数は、\n",
    "$$\n",
    "p(x^N) = \\int_{-\\infty}^{\\infty} p(x^N|\\theta)p(\\theta) d\\theta =  \\int_{-\\infty}^{\\infty} p(x^N|\\theta)p(\\theta) d\\theta = \\int_{-\\infty}^{\\infty} \\Pi\\frac{1}{\\pi (1 + (x_n - \\theta)^2)}\\frac{1}{\\pi(1+\\theta)^2}\n",
    "$$\n",
    "\n",
    "$p(\\theta) = \\frac{1}{\\pi(1+\\theta)^2}, f(\\theta) = \\Pi\\frac{1}{\\pi (1 + (x_n - \\theta)^2)}$\n",
    "として、$I = \\int p(\\theta)f(\\theta) d\\theta$ として計算できる。\n",
    "\n",
    "つまり、$\\theta_1, \\theta_2, \\cdots, \\theta_M$をC(0,1)から、生成し、\n",
    "$$\n",
    "\\frac{1}{M}\\sum_m \\Pi_n \\frac{1}{\\pi (1 + (x_n - \\theta_m)^2)}\n",
    "$$\n",
    "を計算すればよい。\n"
   ]
  },
  {
   "cell_type": "code",
   "execution_count": 8,
   "metadata": {},
   "outputs": [
    {
     "name": "stderr",
     "output_type": "stream",
     "text": [
      "/tmp/ipykernel_1195342/1810451577.py:16: RuntimeWarning: overflow encountered in scalar multiply\n",
      "  mean = (mean*len(I) + product)/(len(X) +1)\n"
     ]
    },
    {
     "ename": "KeyboardInterrupt",
     "evalue": "",
     "output_type": "error",
     "traceback": [
      "\u001b[0;31m---------------------------------------------------------------------------\u001b[0m",
      "\u001b[0;31mKeyboardInterrupt\u001b[0m                         Traceback (most recent call last)",
      "\u001b[1;32m/home/yoshi/workspace/study_bayes/src/integration/monte_carlo_method.ipynb セル 4\u001b[0m line \u001b[0;36m1\n\u001b[1;32m     <a href='vscode-notebook-cell://wsl%2Bubuntu/home/yoshi/workspace/study_bayes/src/integration/monte_carlo_method.ipynb#W4sdnNjb2RlLXJlbW90ZQ%3D%3D?line=12'>13</a>\u001b[0m product \u001b[39m=\u001b[39m \u001b[39m1\u001b[39m\n\u001b[1;32m     <a href='vscode-notebook-cell://wsl%2Bubuntu/home/yoshi/workspace/study_bayes/src/integration/monte_carlo_method.ipynb#W4sdnNjb2RlLXJlbW90ZQ%3D%3D?line=13'>14</a>\u001b[0m \u001b[39mfor\u001b[39;00m x \u001b[39min\u001b[39;00m X:\n\u001b[0;32m---> <a href='vscode-notebook-cell://wsl%2Bubuntu/home/yoshi/workspace/study_bayes/src/integration/monte_carlo_method.ipynb#W4sdnNjb2RlLXJlbW90ZQ%3D%3D?line=14'>15</a>\u001b[0m     product \u001b[39m*\u001b[39m\u001b[39m=\u001b[39m \u001b[39m1\u001b[39m\u001b[39m/\u001b[39m(np\u001b[39m.\u001b[39mpi\u001b[39m*\u001b[39m ( \u001b[39m1\u001b[39m\u001b[39m+\u001b[39m(x \u001b[39m-\u001b[39m _theta)\u001b[39m*\u001b[39m\u001b[39m*\u001b[39m\u001b[39m2\u001b[39m))\n\u001b[1;32m     <a href='vscode-notebook-cell://wsl%2Bubuntu/home/yoshi/workspace/study_bayes/src/integration/monte_carlo_method.ipynb#W4sdnNjb2RlLXJlbW90ZQ%3D%3D?line=15'>16</a>\u001b[0m mean \u001b[39m=\u001b[39m (mean\u001b[39m*\u001b[39m\u001b[39mlen\u001b[39m(I) \u001b[39m+\u001b[39m product)\u001b[39m/\u001b[39m(\u001b[39mlen\u001b[39m(X) \u001b[39m+\u001b[39m\u001b[39m1\u001b[39m)\n\u001b[1;32m     <a href='vscode-notebook-cell://wsl%2Bubuntu/home/yoshi/workspace/study_bayes/src/integration/monte_carlo_method.ipynb#W4sdnNjb2RlLXJlbW90ZQ%3D%3D?line=16'>17</a>\u001b[0m I\u001b[39m.\u001b[39mappend(mean)\n",
      "\u001b[0;31mKeyboardInterrupt\u001b[0m: "
     ]
    }
   ],
   "source": [
    "from scipy.stats import cauchy\n",
    "N = 10 # 観測データの数\n",
    "M = 10**6 # 積分で使うデータのサンプル数\n",
    "theta_ = np.random.standard_cauchy() # 事前分布からサンプル\n",
    "X = cauchy.rvs(loc=theta_, scale=1, size=N)\n",
    "theta = np.random.standard_cauchy(size=M)\n",
    "\n",
    "I = []\n",
    "mean = 0\n",
    "i=0\n",
    "while(len(I) < M):\n",
    "    _theta = theta[i]\n",
    "    product = 1\n",
    "    for x in X:\n",
    "        product *= 1/(np.pi* ( 1+(x - _theta)**2))\n",
    "    mean = (mean*len(I) + product)/(len(X) +1)\n",
    "    I.append(mean)\n",
    "    i+=1\n",
    "\n",
    "plt.figure()\n",
    "plt.plot(range(len(I)), I)\n",
    "plt.show()\n",
    "print(X)"
   ]
  },
  {
   "cell_type": "code",
   "execution_count": null,
   "metadata": {},
   "outputs": [],
   "source": []
  }
 ],
 "metadata": {
  "kernelspec": {
   "display_name": "Python 3",
   "language": "python",
   "name": "python3"
  },
  "language_info": {
   "codemirror_mode": {
    "name": "ipython",
    "version": 3
   },
   "file_extension": ".py",
   "mimetype": "text/x-python",
   "name": "python",
   "nbconvert_exporter": "python",
   "pygments_lexer": "ipython3",
   "version": "3.10.0"
  }
 },
 "nbformat": 4,
 "nbformat_minor": 2
}
