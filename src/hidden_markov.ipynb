{
 "cells": [
  {
   "cell_type": "code",
   "execution_count": 2,
   "metadata": {},
   "outputs": [],
   "source": [
    "import pandas as pd\n",
    "import numpy as np"
   ]
  },
  {
   "cell_type": "code",
   "execution_count": null,
   "metadata": {},
   "outputs": [],
   "source": [
    "data = pd.read_csv('./../data/train.csv')"
   ]
  },
  {
   "cell_type": "code",
   "execution_count": null,
   "metadata": {},
   "outputs": [],
   "source": [
    "data = data[(data['Store'] == 1) & (data['Dept'] == 1)]\n",
    "X = data['Weekly_Sales'].values"
   ]
  },
  {
   "cell_type": "code",
   "execution_count": null,
   "metadata": {},
   "outputs": [],
   "source": [
    "X"
   ]
  },
  {
   "cell_type": "code",
   "execution_count": null,
   "metadata": {},
   "outputs": [],
   "source": [
    "#　設定\n",
    "K = 5 #　クラス数\n",
    "\n",
    "# Aのパラメータ\n",
    "A_para = np.ones((K, K))/K # 遷移確率を生成するディリクレ分布のハイパパラメータ。わからないので等確率となるようなパラメータとして設定\n",
    "# lambdaの事前分布のパラメタ\n",
    "a = 1\n",
    "b = 1\n",
    "# muの事前分布のパラメータ\n",
    "m = 0\n",
    "beta = 1\n",
    "# piの事前分布のパラメータ\n",
    "alpha = np.ones(K)/K\n",
    "\n",
    "N = len(data)"
   ]
  },
  {
   "cell_type": "code",
   "execution_count": null,
   "metadata": {},
   "outputs": [],
   "source": [
    "#アルゴリズム\n",
    "'''\n",
    "q(μ,λ), q(π)、q(A)を初期化\n",
    "for i in 1:MAXITER:\n",
    "    for n in 1:N:\n",
    "        q(s_n)を更新\n",
    "    for k in 1:K:\n",
    "        q(μ_k, λ_k)を更新\n",
    "    q(π)を更新\n",
    "'''\n",
    "\n",
    "E_s_nk = np.random.uniform(low=0.0, high=11.0, size=(N, K))\n",
    "E_s_nk /= np.sum(E_s_nk, axis=1, keepdims=True) # Datanum*K\n",
    "beta_hat_k = np.sum(E_s_nk, axis=0) + beta # shape is K\n",
    "m_k = []\n",
    "print(np.dot(E_s_nk.T, X).shape)\n",
    "# m_hat_k = (np.dot(E_s_nk.T, X) + beta * m_d) / beta_hat_k.reshape((K, 1))\n",
    "sample_num = 100 # サンプル回数\n",
    "# for n in range(N):\n",
    "print(1)    "
   ]
  },
  {
   "cell_type": "code",
   "execution_count": null,
   "metadata": {},
   "outputs": [],
   "source": []
  }
 ],
 "metadata": {
  "kernelspec": {
   "display_name": "Python 3",
   "language": "python",
   "name": "python3"
  },
  "language_info": {
   "codemirror_mode": {
    "name": "ipython",
    "version": 3
   },
   "file_extension": ".py",
   "mimetype": "text/x-python",
   "name": "python",
   "nbconvert_exporter": "python",
   "pygments_lexer": "ipython3",
   "version": "3.10.0"
  }
 },
 "nbformat": 4,
 "nbformat_minor": 2
}
